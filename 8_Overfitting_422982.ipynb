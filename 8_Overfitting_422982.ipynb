{
 "cells": [
  {
   "cell_type": "code",
   "execution_count": null,
   "id": "800984c0",
   "metadata": {},
   "outputs": [],
   "source": [
    "import matplotlib as mpl\n",
    "import pandas as pd\n",
    "import numpy as np\n",
    "import os\n",
    "import matplotlib.pyplot as plt\n",
    "%matplotlib inline\n",
    "mpl.rcParams['figure.figsize'] = (16, 10)\n",
    "pd.set_option('display.max_rows', 500)\n",
    "import plotly.graph_objects as go"
   ]
  },
  {
   "cell_type": "code",
   "execution_count": null,
   "id": "dcb408e1",
   "metadata": {},
   "outputs": [],
   "source": [
    "df_analyse=pd.read_csv('COVID_small_sync_timeline_table.csv',sep=';')"
   ]
  },
  {
   "cell_type": "code",
   "execution_count": null,
   "id": "103e0e5e",
   "metadata": {},
   "outputs": [],
   "source": [
    "df_analyse.head()\n",
    "df_analyse.sort_values('day',ascending=True).head()\n",
    "country_list = df_analyse.columns[1:]"
   ]
  },
  {
   "cell_type": "code",
   "execution_count": null,
   "id": "004d56f1",
   "metadata": {},
   "outputs": [],
   "source": [
    "def quick_plot(x_in, df, y_scale = 'log', slider = False, xname = ' ', yname = ' ', figname = ' '):\n",
    "    \"\"\" Quick basic plot for quick static evaluation of a time series\n",
    "    \n",
    "        you can push selective columns of your data frame by .iloc[:,[0,6,7,8]]\n",
    "        \n",
    "        Parameters:\n",
    "        ----------\n",
    "        x_in : array \n",
    "            array of date time object, or array of numbers\n",
    "        df_input : pandas dataframe \n",
    "            the plotting matrix where each column is plotted\n",
    "            the name of the column will be used for the legend\n",
    "        scale: str\n",
    "            y-axis scale as 'log' or 'linear'\n",
    "        slider: bool\n",
    "            True or False for x-axis slider\n",
    "        xname : str\n",
    "            Title of the X axis\n",
    "        yname : str\n",
    "            Title of the Y axis\n",
    "        figname : str\n",
    "            Title of the figure\n",
    "        \n",
    "        Returns:\n",
    "        ----------\n",
    "        Return type: Figure\n",
    "    \n",
    "    \"\"\"    \n",
    "    fig = go.Figure()\n",
    "    for each in df.columns:\n",
    "        fig.add_trace(go.Scatter(x=x_in, \n",
    "                                 y=df[each], \n",
    "                                 name= each,\n",
    "                                 mode= 'markers+lines',\n",
    "                                 line_width = 1,\n",
    "                                 marker_size = 3)\n",
    "                     )\n",
    "    fig.update_layout(xaxis_title = xname,\n",
    "                      yaxis_title = yname,\n",
    "                      width = 1000, \n",
    "                      height = 800,\n",
    "                      title={\n",
    "                        'text': figname,\n",
    "                        'y':0.9,\n",
    "                        'x':0.5,\n",
    "                        'xanchor': 'center',\n",
    "                        'yanchor': 'top'}\n",
    "                    )\n",
    "    fig.update_yaxes(type = y_scale)\n",
    "    fig.update_xaxes(tickangle=-45,\n",
    "                 nticks=20,\n",
    "                 tickfont=dict(size=14,color=\"#7f7f7f\")\n",
    "                )    \n",
    "    if slider==True:\n",
    "        fig.update_layout(xaxis_rangeslider_visible=True)\n",
    "    fig.show()"
   ]
  },
  {
   "cell_type": "code",
   "execution_count": null,
   "id": "de33dc7c",
   "metadata": {},
   "outputs": [],
   "source": [
    "def mean_absolute_percentage_error(y_true, y_pred): \n",
    "    y_true, y_pred = np.array(y_true), np.array(y_pred)\n",
    "    return np.mean(np.abs((y_true - y_pred) / y_true)) * 100"
   ]
  },
  {
   "cell_type": "code",
   "execution_count": null,
   "id": "d5c3bb7c",
   "metadata": {},
   "outputs": [],
   "source": [
    "from sklearn.preprocessing import PolynomialFeatures\n",
    "from sklearn.linear_model import LinearRegression\n",
    "from sklearn.pipeline import make_pipeline"
   ]
  },
  {
   "cell_type": "code",
   "execution_count": null,
   "id": "05b42ff5",
   "metadata": {},
   "outputs": [],
   "source": [
    "df_poly_check = df_analyse.iloc[0:27,4:-1].reset_index()"
   ]
  },
  {
   "cell_type": "code",
   "execution_count": null,
   "id": "1b639415",
   "metadata": {},
   "outputs": [],
   "source": [
    "df_poly_check.head()\n",
    "y = df_poly_check[['US','Italy','Spain','Germany']].unstack().sort_index(axis=0, level=1)\n",
    "y.tail()"
   ]
  },
  {
   "cell_type": "code",
   "execution_count": null,
   "id": "a2787bcb",
   "metadata": {},
   "outputs": [],
   "source": [
    "# Prepare train and test data\n",
    "test_points = 28\n",
    "y_train = y[0:-test_points-1]\n",
    "y_test = y[-test_points:]\n",
    "X_train = np.arange(len(y_train)).reshape(-1,1)/5.0\n",
    "X_test = np.arange(len(y_train),len(y_train)+test_points).reshape(-1,1)/5.0"
   ]
  },
  {
   "cell_type": "code",
   "execution_count": null,
   "id": "2e7d4b7d",
   "metadata": {},
   "outputs": [],
   "source": [
    "import seaborn\n",
    "seaborn.set(rc={'figure.figsize':(16,8)})  # plot formatting, prepare for subplot "
   ]
  },
  {
   "cell_type": "code",
   "execution_count": null,
   "id": "d77ba82a",
   "metadata": {},
   "outputs": [],
   "source": [
    "def PolynomialRegression(degree = 2, **kwarg):\n",
    "    return make_pipeline(PolynomialFeatures(degree), LinearRegression(**kwarg))"
   ]
  },
  {
   "cell_type": "code",
   "execution_count": null,
   "id": "b40d5883",
   "metadata": {},
   "outputs": [],
   "source": []
  }
 ],
 "metadata": {
  "kernelspec": {
   "display_name": "Python 3 (ipykernel)",
   "language": "python",
   "name": "python3"
  },
  "language_info": {
   "codemirror_mode": {
    "name": "ipython",
    "version": 3
   },
   "file_extension": ".py",
   "mimetype": "text/x-python",
   "name": "python",
   "nbconvert_exporter": "python",
   "pygments_lexer": "ipython3",
   "version": "3.9.7"
  }
 },
 "nbformat": 4,
 "nbformat_minor": 5
}
