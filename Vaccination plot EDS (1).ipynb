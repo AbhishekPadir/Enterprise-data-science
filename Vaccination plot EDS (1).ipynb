{
 "cells": [
  {
   "cell_type": "code",
   "execution_count": null,
   "id": "7fcb4800",
   "metadata": {},
   "outputs": [],
   "source": [
    "import numpy as np\n",
    "import pandas as pd\n",
    "import matplotlib.pyplot as plt\n",
    "import plotly.express as px\n",
    "import folium\n",
    "import plotly.graph_objects as go\n",
    "import seaborn as sns\n",
    "import ipywidgets as widgets\n",
    "\n",
    "from __future__ import print_function\n",
    "from ipywidgets import interact, interactive, fixed, interact_manual\n",
    "from IPython.display import display, HTML"
   ]
  },
  {
   "cell_type": "code",
   "execution_count": null,
   "id": "dbb56728",
   "metadata": {},
   "outputs": [],
   "source": [
    "vaccination_df=pd.read_csv('https://raw.githubusercontent.com/govex/COVID-19/master/data_tables/vaccine_data/global_data/time_series_covid19_vaccine_global.csv')"
   ]
  },
  {
   "cell_type": "code",
   "execution_count": null,
   "id": "f8783d31",
   "metadata": {},
   "outputs": [],
   "source": [
    "vaccination_df"
   ]
  },
  {
   "cell_type": "code",
   "execution_count": null,
   "id": "8623de20",
   "metadata": {},
   "outputs": [],
   "source": [
    "vaccination_df.fillna(0, inplace = True)\n",
    "vaccination_df.drop(vaccination_df.index[vaccination_df['Country_Region'] == 'India'], inplace = True)"
   ]
  },
  {
   "cell_type": "code",
   "execution_count": null,
   "id": "925dd387",
   "metadata": {},
   "outputs": [],
   "source": [
    "vaccination_df_GERMANY = vaccination_df[vaccination_df[\"Country_Region\"] == 'Germany']\n",
    "vaccination_df_GERMANY"
   ]
  },
  {
   "cell_type": "code",
   "execution_count": null,
   "id": "375b4624",
   "metadata": {},
   "outputs": [],
   "source": [
    "vaccination_df_GERMANY.drop(vaccination_df_GERMANY.index[vaccination_df_GERMANY['People_fully_vaccinated'] == 0], inplace = True)"
   ]
  },
  {
   "cell_type": "code",
   "execution_count": null,
   "id": "6aad555a",
   "metadata": {},
   "outputs": [],
   "source": [
    "plt.figure(figsize=(18,6))\n",
    "sns.lineplot(data=vaccination_df_GERMANY, x=\"Date\", y=\"People_fully_vaccinated\")\n",
    "plt.title(\"Total vaccinations in the Germany\")\n",
    "plt.xticks(rotation=45)\n",
    "plt.show()"
   ]
  },
  {
   "cell_type": "code",
   "execution_count": null,
   "id": "b147a417",
   "metadata": {},
   "outputs": [],
   "source": [
    "plt.figure(figsize=(18,6))\n",
    "sns.lineplot(data=vaccination_df_GERMANY, x=\"Date\", y=\"People_fully_vaccinated\")\n",
    "\n",
    "plt.xticks(rotation=90)\n",
    "plt.title(\"Daily vaccinations in the Germany\")"
   ]
  },
  {
   "cell_type": "code",
   "execution_count": null,
   "id": "a3fcaa7b",
   "metadata": {},
   "outputs": [],
   "source": [
    "vaccination2_df_GERMANY = vaccination_df[vaccination_df[\"Country_Region\"] == 'Germany'].head(1000)\n",
    "vaccination2_df_GERMANY"
   ]
  },
  {
   "cell_type": "code",
   "execution_count": null,
   "id": "4839ef44",
   "metadata": {},
   "outputs": [],
   "source": [
    "plt.figure(figsize=(18,6))\n",
    "sns.lineplot(data=vaccination2_df_GERMANY, x=\"Date\", y=\"People_fully_vaccinated\")\n",
    "plt.title(\"Total vaccinations in the Germany\")\n",
    "plt.xticks(rotation=45)\n",
    "plt.show()"
   ]
  },
  {
   "cell_type": "code",
   "execution_count": null,
   "id": "42f8c7cc",
   "metadata": {},
   "outputs": [],
   "source": [
    "vaccination_df_CHINA = vaccination_df[vaccination_df[\"Country_Region\"] == 'China']\n",
    "vaccination_df_CHINA"
   ]
  },
  {
   "cell_type": "code",
   "execution_count": null,
   "id": "54ea21af",
   "metadata": {},
   "outputs": [],
   "source": [
    "plt.figure(figsize=(18,6))\n",
    "sns.lineplot(data=vaccination_df_CHINA, x=\"Date\", y=\"People_fully_vaccinated\")\n",
    "plt.title(\"Total vaccinations in the China\")\n",
    "plt.xticks(rotation=45)\n",
    "plt.show()"
   ]
  },
  {
   "cell_type": "code",
   "execution_count": null,
   "id": "73748483",
   "metadata": {},
   "outputs": [],
   "source": [
    "vaccination_df_ITALY = vaccination_df[vaccination_df[\"Country_Region\"] == 'Italy']\n",
    "vaccination_df_ITALY"
   ]
  },
  {
   "cell_type": "code",
   "execution_count": null,
   "id": "ca3d250a",
   "metadata": {},
   "outputs": [],
   "source": [
    "plt.figure(figsize=(18,6))\n",
    "sns.lineplot(data=vaccination_df_ITALY, x=\"Date\", y=\"People_fully_vaccinated\")\n",
    "plt.title(\"Total vaccinations in the Italy\")\n",
    "plt.xticks(rotation=45)\n",
    "plt.show()"
   ]
  },
  {
   "cell_type": "code",
   "execution_count": null,
   "id": "ea188db4",
   "metadata": {},
   "outputs": [],
   "source": [
    "vaccination_df_WORLD = vaccination_df[vaccination_df[\"Country_Region\"] == 'World']\n",
    "vaccination_df_WORLD"
   ]
  },
  {
   "cell_type": "code",
   "execution_count": null,
   "id": "b8c4c596",
   "metadata": {},
   "outputs": [],
   "source": [
    "plt.figure(figsize=(18,6))\n",
    "sns.lineplot(data=vaccination_df_WORLD, x=\"Date\", y=\"People_fully_vaccinated\")\n",
    "plt.title(\"Daily vaccinations in the World\")\n",
    "plt.xticks(rotation=45)\n",
    "plt.show()"
   ]
  },
  {
   "cell_type": "code",
   "execution_count": null,
   "id": "b7ddb96b",
   "metadata": {},
   "outputs": [],
   "source": []
  }
 ],
 "metadata": {
  "kernelspec": {
   "display_name": "Python 3 (ipykernel)",
   "language": "python",
   "name": "python3"
  },
  "language_info": {
   "codemirror_mode": {
    "name": "ipython",
    "version": 3
   },
   "file_extension": ".py",
   "mimetype": "text/x-python",
   "name": "python",
   "nbconvert_exporter": "python",
   "pygments_lexer": "ipython3",
   "version": "3.9.7"
  }
 },
 "nbformat": 4,
 "nbformat_minor": 5
}
