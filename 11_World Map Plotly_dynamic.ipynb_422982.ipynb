{
 "cells": [
  {
   "cell_type": "code",
   "execution_count": null,
   "id": "56dbdd40",
   "metadata": {},
   "outputs": [],
   "source": [
    "import numpy as np\n",
    "import pandas as pd\n",
    "\n",
    "import plotly.graph_objects as go\n",
    "from plotly import tools"
   ]
  },
  {
   "cell_type": "code",
   "execution_count": null,
   "id": "62d12b4c",
   "metadata": {},
   "outputs": [],
   "source": [
    "## check some parameters\n",
    "## depending where you launch your notebook, the relative path might not work\n",
    "## you should start the notebook server from your base path\n",
    "## when opening the notebook, typically your path will be ../ads_covid-19/notebooks\n",
    "import os\n",
    "if os.path.split(os.getcwd())[-1]=='notebooks':\n",
    "    os.chdir(\"../\")\n",
    "\n",
    "'Your base path is at: '+os.path.split(os.getcwd())[-1]"
   ]
  },
  {
   "cell_type": "code",
   "execution_count": null,
   "id": "4fc5aeea",
   "metadata": {},
   "outputs": [],
   "source": [
    "url=\"https://covid.ourworldindata.org/data/owid-covid-data.csv\"\n",
    "df_country_info=pd.read_csv(url,sep=',')\n",
    "#df_country_info=pd.read_csv('data/external/20220102 owid-covid-data.csv',sep=',')\n",
    "df_country_info.head(9)"
   ]
  },
  {
   "cell_type": "code",
   "execution_count": null,
   "id": "96b28d60",
   "metadata": {},
   "outputs": [],
   "source": [
    "df_country_info.columns"
   ]
  },
  {
   "cell_type": "code",
   "execution_count": null,
   "id": "7bfdc7a4",
   "metadata": {},
   "outputs": [],
   "source": [
    "# cut out the last day with data\n",
    "df_country_info_day=df_country_info[df_country_info['date']==max(df_country_info['date'])]\n",
    "df_country_info_day['total_cases_per_million']"
   ]
  },
  {
   "cell_type": "code",
   "execution_count": null,
   "id": "fb2960cb",
   "metadata": {},
   "outputs": [],
   "source": [
    "#visualize_col='total_vaccinations_per_hundred'\n",
    "visualize_col='total_boosters_per_hundred'\n",
    "#df_country_info[['iso_code','date',visualize_col]].fillna(0)\n",
    "#my_z=df_country_info[['iso_code',visualize_col]].groupby(['iso_code']).max().reset_index()\n",
    "#my_z=df_country_info_day['total_cases_per_million']/10000\n",
    "my_z=df_country_info_day[visualize_col]"
   ]
  },
  {
   "cell_type": "code",
   "execution_count": null,
   "id": "f325b412",
   "metadata": {},
   "outputs": [],
   "source": [
    "fig = go.Figure(go.Choropleth(\n",
    "                    locations = df_country_info_day['iso_code'],\n",
    "                    z = my_z, # norm to percent\n",
    "                    text = df_country_info_day['location'],\n",
    "                    colorscale = 'Blues',\n",
    "                    autocolorscale=False,\n",
    "                    reversescale=False,\n",
    "                    marker_line_color='darkgray',\n",
    "                    marker_line_width=0.5,\n",
    "                    colorbar_title = visualize_col,\n",
    "                    ))\n",
    "fig.show()"
   ]
  },
  {
   "cell_type": "code",
   "execution_count": null,
   "id": "4fe9cbe1",
   "metadata": {},
   "outputs": [],
   "source": [
    "fig.update_layout(\n",
    "    width=900, height=600,\n",
    "    title_text='COVID-19 Total cases',\n",
    "    geo=dict(\n",
    "        showframe=False,\n",
    "        showcoastlines=False,\n",
    "        projection_type='equirectangular'\n",
    "    ),\n",
    "    annotations = [dict(\n",
    "        x=0.55,\n",
    "        y=0.1,\n",
    "        xref='paper',\n",
    "        yref='paper',\n",
    "        text='Source: <a href=\"https://github.com/owid/covid-19-data/tree/master/public/data/\">\\\n",
    "            Our World in Data</a>',\n",
    "        showarrow = False\n",
    "    )]\n",
    ")\n",
    "\n",
    "fig.show()\n",
    "fig.write_html(\"Covid_world_map.html\")"
   ]
  },
  {
   "cell_type": "code",
   "execution_count": null,
   "id": "cb283b0b",
   "metadata": {},
   "outputs": [],
   "source": [
    "import plotly.graph_objects as go\n",
    "from plotly import tools\n",
    "#visualize_col='total_vaccinations_per_hundred'\n",
    "visualize_col='total_boosters_per_hundred'\n",
    "all_dates=df_country_info['date'].unique()\n",
    "all_dates.sort()\n",
    "my_z=df_country_info[['iso_code','date',visualize_col]].groupby(['iso_code']).max().reset_index()\n",
    "#all_dates=all_dates[all_dates>'2021-01-01']\n",
    "all_dates"
   ]
  },
  {
   "cell_type": "code",
   "execution_count": null,
   "id": "8b124731",
   "metadata": {},
   "outputs": [],
   "source": []
  }
 ],
 "metadata": {
  "kernelspec": {
   "display_name": "Python 3 (ipykernel)",
   "language": "python",
   "name": "python3"
  },
  "language_info": {
   "codemirror_mode": {
    "name": "ipython",
    "version": 3
   },
   "file_extension": ".py",
   "mimetype": "text/x-python",
   "name": "python",
   "nbconvert_exporter": "python",
   "pygments_lexer": "ipython3",
   "version": "3.9.7"
  }
 },
 "nbformat": 4,
 "nbformat_minor": 5
}
