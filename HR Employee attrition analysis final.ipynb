{
 "cells": [
  {
   "cell_type": "code",
   "execution_count": 1,
   "id": "b78248f9",
   "metadata": {},
   "outputs": [],
   "source": [
    "import numpy as np\n",
    "import pandas as pd\n",
    "import seaborn as sns\n",
    "import category_encoders as ce\n",
    "from sklearn.model_selection import train_test_split\n",
    "from sklearn.preprocessing import RobustScaler\n",
    "from sklearn.ensemble import RandomForestClassifier\n",
    "import matplotlib.pyplot as plt\n",
    "%matplotlib inline"
   ]
  },
  {
   "cell_type": "code",
   "execution_count": null,
   "id": "948c6cbb",
   "metadata": {},
   "outputs": [],
   "source": [
    "dataset=pd.read_csv(r'C:\\Users\\Abhishek Padir\\Desktop\\HR_Employee_Attrition-1.csv')"
   ]
  },
  {
   "cell_type": "code",
   "execution_count": null,
   "id": "12542b04",
   "metadata": {},
   "outputs": [],
   "source": [
    "dataset.head()"
   ]
  },
  {
   "cell_type": "code",
   "execution_count": null,
   "id": "d4258c52",
   "metadata": {},
   "outputs": [],
   "source": [
    "dataset.tail()"
   ]
  },
  {
   "cell_type": "code",
   "execution_count": null,
   "id": "b162e9a3",
   "metadata": {},
   "outputs": [],
   "source": [
    "dataset.shape"
   ]
  },
  {
   "cell_type": "code",
   "execution_count": null,
   "id": "5e957011",
   "metadata": {},
   "outputs": [],
   "source": [
    "dataset.columns"
   ]
  },
  {
   "cell_type": "code",
   "execution_count": null,
   "id": "d30ec11b",
   "metadata": {},
   "outputs": [],
   "source": [
    "dataset.isnull().sum()"
   ]
  },
  {
   "cell_type": "code",
   "execution_count": null,
   "id": "3536fec5",
   "metadata": {},
   "outputs": [],
   "source": [
    "dataset.nunique()"
   ]
  },
  {
   "cell_type": "code",
   "execution_count": null,
   "id": "eb99a376",
   "metadata": {},
   "outputs": [],
   "source": [
    "dataset.describe().T"
   ]
  },
  {
   "cell_type": "code",
   "execution_count": null,
   "id": "b898bedc",
   "metadata": {},
   "outputs": [],
   "source": [
    "bins=np.linspace(-10,10,40)\n",
    "plt.hist(dataset.DistanceFromHome,bins,alpha=0.3,label='Distance from Home')\n",
    "plt.hist(dataset.JobInvolvement,bins,alpha=0.3,label='Job Involvement')\n",
    "plt.hist(dataset.PercentSalaryHike,bins,alpha=0.3,label='Percent Salary Hike')\n",
    "plt.hist(dataset.YearsWithCurrManager,bins,alpha=0.3,label='Years With Curr.Manager')\n",
    "plt.hist(dataset.YearsSinceLastPromotion,bins,alpha=0.3,label='Years Since Last Promotion')\n",
    "plt.hist(dataset.YearsInCurrentRole,bins,alpha=0.3,label='Years In Current Role')\n",
    "plt.hist(dataset.WorkLifeBalance,bins,alpha=0.3,label='Work In Current Role')\n",
    "plt.legend(loc='upper left')\n",
    "plt.show()"
   ]
  },
  {
   "cell_type": "code",
   "execution_count": null,
   "id": "6a517b6e",
   "metadata": {},
   "outputs": [],
   "source": [
    "duplicate_dataset=dataset[dataset.duplicated()]\n",
    "duplicate_dataset"
   ]
  },
  {
   "cell_type": "code",
   "execution_count": null,
   "id": "7e2c4bdc",
   "metadata": {},
   "outputs": [],
   "source": [
    "categorical=[i for i in dataset.columns if dataset[i].dtype == 'O']\n",
    "print(categorical)"
   ]
  },
  {
   "cell_type": "code",
   "execution_count": null,
   "id": "bd561aa3",
   "metadata": {},
   "outputs": [],
   "source": [
    "dataset[categorical].head()"
   ]
  },
  {
   "cell_type": "code",
   "execution_count": null,
   "id": "2ec59e84",
   "metadata": {},
   "outputs": [],
   "source": [
    "f, ax= plt.subplots(figsize=(10,10))\n",
    "ax= dataset['Attrition'].value_counts().plot.pie(explode=[0,0],autopct = '%1.1f%%', shadow=True)\n",
    "ax.set_title('Attrition Probability')"
   ]
  },
  {
   "cell_type": "code",
   "execution_count": null,
   "id": "87a16329",
   "metadata": {},
   "outputs": [],
   "source": [
    "f, ax = plt.subplots(4,2, figsize=(20,15))\n",
    "\n",
    "ax[0,0]=sns.countplot(x='Attrition' , hue='EducationField', data=dataset , ax = ax[0,0], palette='Set1')\n",
    "ax[0,0].set_title(\"Frequency Distribution of Attrition w.r.t. Education Field\")                      \n",
    "                       \n",
    "ax[1,0]=sns.countplot(x='Attrition', hue= 'Department' , data=dataset, ax=ax[1,0], palette='Set1')\n",
    "ax[1,0].set_title(\"Frequency Distribution of Attrition w.r.t. Department\")\n",
    "                      \n",
    "ax[0,1]=sns.countplot(x='Attrition' , hue='Education', data=dataset , ax=ax[0,1], palette='Set1')\n",
    "ax[0,1].set_title(\"Frequency Distribution of Attrition w.r.t. Education \") \n",
    "\n",
    "                      \n",
    "ax[1,1]=sns.countplot(x='Attrition' , hue='BusinessTravel', data=dataset , ax=ax[1,1], palette='Set1')\n",
    "ax[1,1].set_title(\"Frequency Distribution of Attrition w.r.t. Business Travel\")\n",
    "                      \n",
    "ax[2,0]=sns.countplot(x='Attrition', hue='JobRole', data=dataset , ax=ax[2,0], palette='Set1')\n",
    "ax[2,0].set_title(\"Frequency Distribution of Attrition w.r.t. Job Role\")\n",
    "                      \n",
    "                      \n",
    "ax[2,1]=sns.countplot(x='Attrition', hue='OverTime', data=dataset , ax=ax[2,1], palette='Set1')\n",
    "ax[2,1].set_title(\"Frequency Distribution of Attrition w.r.t. Over Time\")\n",
    "                      \n",
    "                      \n",
    "ax[3,0]=sns.countplot(x='Attrition', hue='EnvironmentSatisfaction', data=dataset , ax=ax[3,0], palette='Set1')\n",
    "ax[3,0].set_title(\"Frequency Distribution of Attrition w.r.t. Environment Satisfaction\")\n",
    "                      \n",
    "                      \n",
    "ax[3,1]=sns.countplot(x='Attrition', hue='WorkLifeBalance', data=dataset , ax=ax[3,1], palette='Set1')\n",
    "ax[3,1].set_title(\"Frequency Distribution of Attrition w.r.t. Work Life Balance\")\n",
    "                      \n",
    "f.tight_layout()  "
   ]
  },
  {
   "cell_type": "code",
   "execution_count": null,
   "id": "9388a1bf",
   "metadata": {},
   "outputs": [],
   "source": [
    "column_list=['EmployeeNumber','Attrition','EmployeeCount','Over18','StandardHours']\n",
    "x=dataset.drop(column_list,axis = 1)\n",
    "y=dataset['Attrition']"
   ]
  },
  {
   "cell_type": "code",
   "execution_count": null,
   "id": "a559f90d",
   "metadata": {},
   "outputs": [],
   "source": [
    "print(x.columns)\n"
   ]
  },
  {
   "cell_type": "code",
   "execution_count": null,
   "id": "f593e335",
   "metadata": {},
   "outputs": [],
   "source": [
    "print(y)"
   ]
  },
  {
   "cell_type": "code",
   "execution_count": null,
   "id": "bd3f5d53",
   "metadata": {},
   "outputs": [],
   "source": [
    "X_train,X_test,Y_train,Y_test=train_test_split(x,y, test_size=0.2,random_state=42)\n",
    "print(X_train.shape,X_test.shape)"
   ]
  },
  {
   "cell_type": "code",
   "execution_count": null,
   "id": "14ef081a",
   "metadata": {},
   "outputs": [],
   "source": [
    "encoder=ce.OrdinalEncoder(cols=['BusinessTravel','Department','EducationField','Gender','JobRole','MaritalStatus','OverTime'])\n",
    "X_train=encoder.fit_transform(X_train)\n",
    "X_test=encoder.fit_transform(X_test)"
   ]
  },
  {
   "cell_type": "code",
   "execution_count": null,
   "id": "22eb3cf9",
   "metadata": {},
   "outputs": [],
   "source": [
    "cols=X_train.columns\n",
    "# X_train = pd.DataFrame(X_train, columns = X.columns)\n",
    "scaler = RobustScaler()\n",
    "X_train = scaler.fit_transform(X_train)\n",
    "X_test = scaler.fit_transform(X_test)\n",
    "X_train = pd.DataFrame(X_train,columns=[cols])\n",
    "X_test = pd.DataFrame(X_test,columns=[cols])"
   ]
  },
  {
   "cell_type": "code",
   "execution_count": null,
   "id": "d2c66a48",
   "metadata": {},
   "outputs": [],
   "source": [
    "rfc = RandomForestClassifier(n_estimators=100, random_state=0)\n",
    "rfc.fit(X_train,Y_train)\n",
    "y_pred = rfc.predict(X_test)"
   ]
  },
  {
   "cell_type": "code",
   "execution_count": null,
   "id": "958b2493",
   "metadata": {},
   "outputs": [],
   "source": [
    "from sklearn.metrics import accuracy_score"
   ]
  },
  {
   "cell_type": "code",
   "execution_count": null,
   "id": "30afc4dd",
   "metadata": {},
   "outputs": [],
   "source": [
    "score = accuracy_score(Y_test,y_pred)\n",
    "print('randomforest classifier score: ',np.abs(score)*100)"
   ]
  },
  {
   "cell_type": "code",
   "execution_count": null,
   "id": "0807c6c8",
   "metadata": {},
   "outputs": [],
   "source": [
    "y_pred"
   ]
  },
  {
   "cell_type": "code",
   "execution_count": null,
   "id": "afae329c",
   "metadata": {},
   "outputs": [],
   "source": []
  }
 ],
 "metadata": {
  "kernelspec": {
   "display_name": "Python 3 (ipykernel)",
   "language": "python",
   "name": "python3"
  },
  "language_info": {
   "codemirror_mode": {
    "name": "ipython",
    "version": 3
   },
   "file_extension": ".py",
   "mimetype": "text/x-python",
   "name": "python",
   "nbconvert_exporter": "python",
   "pygments_lexer": "ipython3",
   "version": "3.9.7"
  }
 },
 "nbformat": 4,
 "nbformat_minor": 5
}
