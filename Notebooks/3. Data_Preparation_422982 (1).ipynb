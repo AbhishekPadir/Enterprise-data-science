{
 "cells": [
  {
   "cell_type": "code",
   "execution_count": null,
   "id": "842727dd",
   "metadata": {},
   "outputs": [],
   "source": [
    "import pandas as pd\n",
    "import numpy as np\n",
    "from datetime import datetime \n",
    "%matplotlib inline\n",
    "\n",
    "import matplotlib as mpl\n",
    "import matplotlib.pyplot as plt\n",
    "import seaborn as sns\n",
    "import plotly.graph_objects as go\n",
    "import plotly\n",
    "\n",
    "\n",
    "mpl.rcParams['figure.figsize']=(16,9)\n",
    "pd.set_option('display.max_rows', 500)\n",
    "sns.set(style=\"darkgrid\")\n",
    "\n",
    "import plotly.graph_objects as go"
   ]
  },
  {
   "cell_type": "code",
   "execution_count": null,
   "id": "166250c5",
   "metadata": {},
   "outputs": [],
   "source": [
    "datapath= 'https://raw.githubusercontent.com/CSSEGISandData/COVID-19/master/csse_covid_19_data/csse_covid_19_time_series/time_series_covid19_confirmed_global.csv'\n",
    "pd_raw=pd.read_csv('https://raw.githubusercontent.com/CSSEGISandData/COVID-19/master/csse_covid_19_data/csse_covid_19_time_series/time_series_covid19_confirmed_global.csv')"
   ]
  },
  {
   "cell_type": "code",
   "execution_count": null,
   "id": "57333f12",
   "metadata": {},
   "outputs": [],
   "source": [
    "pd_raw.head()"
   ]
  },
  {
   "cell_type": "code",
   "execution_count": null,
   "id": "cd30a3d4",
   "metadata": {},
   "outputs": [],
   "source": [
    "pd_raw.columns[:]"
   ]
  },
  {
   "cell_type": "code",
   "execution_count": null,
   "id": "50692b72",
   "metadata": {},
   "outputs": [],
   "source": [
    "time_idx=pd_raw.columns[4:]"
   ]
  },
  {
   "cell_type": "code",
   "execution_count": null,
   "id": "7443efb6",
   "metadata": {},
   "outputs": [],
   "source": [
    "df_plot= pd.DataFrame({ 'Date':\n",
    "                       time_idx\n",
    "    \n",
    "})\n",
    "df_plot.head()"
   ]
  },
  {
   "cell_type": "code",
   "execution_count": null,
   "id": "0741c594",
   "metadata": {},
   "outputs": [],
   "source": [
    "pd_raw['Country/Region'].unique()"
   ]
  },
  {
   "cell_type": "code",
   "execution_count": null,
   "id": "9dd76df7",
   "metadata": {},
   "outputs": [],
   "source": [
    "pd_raw['Country/Region']"
   ]
  },
  {
   "cell_type": "code",
   "execution_count": null,
   "id": "fccae6a0",
   "metadata": {},
   "outputs": [],
   "source": [
    "pd_raw[pd_raw['Country/Region']=='US']"
   ]
  },
  {
   "cell_type": "code",
   "execution_count": null,
   "id": "b5eb2a2c",
   "metadata": {},
   "outputs": [],
   "source": [
    "import numpy as np\n",
    "country_list=['Italy', 'US', 'Spain','Germany', 'Korea,South']"
   ]
  },
  {
   "cell_type": "code",
   "execution_count": null,
   "id": "89a6a8f2",
   "metadata": {},
   "outputs": [],
   "source": [
    "for each in country_list:\n",
    "    df_plot[each]=np.array(pd_raw[pd_raw['Country/Region']==each].iloc[:,4::].sum(axis=0))"
   ]
  },
  {
   "cell_type": "code",
   "execution_count": null,
   "id": "b55de0ff",
   "metadata": {},
   "outputs": [],
   "source": [
    "df_plot"
   ]
  },
  {
   "cell_type": "code",
   "execution_count": null,
   "id": "9c04d578",
   "metadata": {},
   "outputs": [],
   "source": [
    "df_plot.set_index('Date').plot()"
   ]
  },
  {
   "cell_type": "code",
   "execution_count": null,
   "id": "24ea233e",
   "metadata": {},
   "outputs": [],
   "source": [
    "# section 4.2 done Conversion of Date Objects"
   ]
  },
  {
   "cell_type": "code",
   "execution_count": null,
   "id": "54f51284",
   "metadata": {},
   "outputs": [],
   "source": [
    "df_plot.head()"
   ]
  },
  {
   "cell_type": "code",
   "execution_count": null,
   "id": "90bb6c3a",
   "metadata": {},
   "outputs": [],
   "source": [
    "from datetime import datetime"
   ]
  },
  {
   "cell_type": "code",
   "execution_count": null,
   "id": "1d0c1be6",
   "metadata": {},
   "outputs": [],
   "source": [
    "df_plot.Date[0]"
   ]
  },
  {
   "cell_type": "code",
   "execution_count": null,
   "id": "85adab25",
   "metadata": {},
   "outputs": [],
   "source": [
    "datetime.strptime(df_plot.Date[0], '%m/%d/%y')"
   ]
  },
  {
   "cell_type": "code",
   "execution_count": null,
   "id": "83fb02aa",
   "metadata": {},
   "outputs": [],
   "source": [
    "time_idx=[datetime.strptime(each, '%m/%d/%y') for each in df_plot.Date]\n",
    "time_str=[each.strftime('%Y-%m-%d') for each in time_idx]"
   ]
  },
  {
   "cell_type": "code",
   "execution_count": null,
   "id": "6e2165e8",
   "metadata": {},
   "outputs": [],
   "source": [
    "time_idx"
   ]
  },
  {
   "cell_type": "code",
   "execution_count": null,
   "id": "dc9b90b0",
   "metadata": {},
   "outputs": [],
   "source": [
    "df_plot['Date']=time_idx\n",
    "type(df_plot['Date'][0])"
   ]
  },
  {
   "cell_type": "code",
   "execution_count": null,
   "id": "b991c3fe",
   "metadata": {},
   "outputs": [],
   "source": [
    "df_plot.head()"
   ]
  },
  {
   "cell_type": "code",
   "execution_count": null,
   "id": "00d87180",
   "metadata": {},
   "outputs": [],
   "source": [
    "df_plot.to_csv('processed.csv', sep=';', index=False)"
   ]
  },
  {
   "cell_type": "code",
   "execution_count": null,
   "id": "1d9ca396",
   "metadata": {},
   "outputs": [],
   "source": [
    "df_plot"
   ]
  },
  {
   "cell_type": "code",
   "execution_count": null,
   "id": "b074872f",
   "metadata": {},
   "outputs": [],
   "source": [
    "# section 4.3 done Relational data structures"
   ]
  },
  {
   "cell_type": "code",
   "execution_count": null,
   "id": "1b33ea07",
   "metadata": {},
   "outputs": [],
   "source": [
    "import pandas as pd"
   ]
  },
  {
   "cell_type": "code",
   "execution_count": null,
   "id": "b5856aee",
   "metadata": {},
   "outputs": [],
   "source": [
    "datapath= 'https://raw.githubusercontent.com/CSSEGISandData/COVID-19/master/csse_covid_19_data/csse_covid_19_time_series/time_series_covid19_confirmed_global.csv'\n",
    "pd_raw=pd.read_csv('https://raw.githubusercontent.com/CSSEGISandData/COVID-19/master/csse_covid_19_data/csse_covid_19_time_series/time_series_covid19_confirmed_global.csv')"
   ]
  },
  {
   "cell_type": "code",
   "execution_count": null,
   "id": "482b0be3",
   "metadata": {},
   "outputs": [],
   "source": [
    "pd_raw.head()"
   ]
  },
  {
   "cell_type": "code",
   "execution_count": null,
   "id": "89d6fcef",
   "metadata": {},
   "outputs": [],
   "source": [
    "pd_data_base=pd_raw.rename(columns={'Country/Region':'country','Province/State':'state' })"
   ]
  },
  {
   "cell_type": "code",
   "execution_count": null,
   "id": "f7faeee8",
   "metadata": {},
   "outputs": [],
   "source": [
    "pd_data_base"
   ]
  },
  {
   "cell_type": "code",
   "execution_count": null,
   "id": "d0b3d6d3",
   "metadata": {},
   "outputs": [],
   "source": [
    "pd_data_base=pd_data_base.drop(['Lat', 'Long'], axis=1)"
   ]
  },
  {
   "cell_type": "code",
   "execution_count": null,
   "id": "15ea8c0f",
   "metadata": {},
   "outputs": [],
   "source": [
    "pd_data_base.head()"
   ]
  },
  {
   "cell_type": "code",
   "execution_count": null,
   "id": "f8609bf3",
   "metadata": {},
   "outputs": [],
   "source": [
    "pd_data_base.set_index(['state','country'])"
   ]
  },
  {
   "cell_type": "code",
   "execution_count": null,
   "id": "75a11d8f",
   "metadata": {},
   "outputs": [],
   "source": [
    "test_pd=pd_data_base.set_index(['state','country']).T\n",
    "test_pd"
   ]
  },
  {
   "cell_type": "code",
   "execution_count": null,
   "id": "8e283cc7",
   "metadata": {},
   "outputs": [],
   "source": [
    "test_pd.columns"
   ]
  },
  {
   "cell_type": "code",
   "execution_count": null,
   "id": "cb1f5902",
   "metadata": {},
   "outputs": [],
   "source": [
    "test_pd.stack(level=[0,1]).reset_index()"
   ]
  },
  {
   "cell_type": "code",
   "execution_count": null,
   "id": "86448beb",
   "metadata": {},
   "outputs": [],
   "source": [
    "pd_relational_model=pd_data_base.set_index(['state', 'country'])\\\n",
    ".T \\\n",
    ".stack(level=[0,1]) \\\n",
    ".reset_index() \\\n",
    ".rename(columns={'level_0':'date', 0:'confirmed'},\n",
    "       )"
   ]
  },
  {
   "cell_type": "code",
   "execution_count": null,
   "id": "77c0c8ad",
   "metadata": {},
   "outputs": [],
   "source": [
    "pd_relational_model.head()"
   ]
  },
  {
   "cell_type": "code",
   "execution_count": null,
   "id": "2c1bebbf",
   "metadata": {},
   "outputs": [],
   "source": [
    "pd_relational_model.dtypes"
   ]
  },
  {
   "cell_type": "code",
   "execution_count": null,
   "id": "bd626417",
   "metadata": {},
   "outputs": [],
   "source": [
    "pd_relational_model.to_csv('COVID_relational_confirmed.csv', sep = ';', index = None)"
   ]
  },
  {
   "cell_type": "code",
   "execution_count": null,
   "id": "01529f37",
   "metadata": {},
   "outputs": [],
   "source": []
  }
 ],
 "metadata": {
  "kernelspec": {
   "display_name": "Python 3 (ipykernel)",
   "language": "python",
   "name": "python3"
  },
  "language_info": {
   "codemirror_mode": {
    "name": "ipython",
    "version": 3
   },
   "file_extension": ".py",
   "mimetype": "text/x-python",
   "name": "python",
   "nbconvert_exporter": "python",
   "pygments_lexer": "ipython3",
   "version": "3.9.7"
  }
 },
 "nbformat": 4,
 "nbformat_minor": 5
}
