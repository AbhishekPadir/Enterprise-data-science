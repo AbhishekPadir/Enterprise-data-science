{
 "cells": [
  {
   "cell_type": "code",
   "execution_count": null,
   "id": "7fcb4800",
   "metadata": {},
   "outputs": [],
   "source": [
    "import numpy as np\n",
    "import pandas as pd\n",
    "import matplotlib.pyplot as plt\n",
    "import plotly.express as px\n",
    "import folium\n",
    "import plotly.graph_objects as go\n",
    "import seaborn as sns\n",
    "import ipywidgets as widgets\n",
    "\n",
    "from __future__ import print_function\n",
    "from ipywidgets import interact, interactive, fixed, interact_manual\n",
    "from IPython.display import display, HTML"
   ]
  },
  {
   "cell_type": "code",
   "execution_count": null,
   "id": "dbb56728",
   "metadata": {},
   "outputs": [],
   "source": [
    "pd_raw=pd.read_csv('https://raw.githubusercontent.com/govex/COVID-19/master/data_tables/vaccine_data/global_data/time_series_covid19_vaccine_doses_admin_global.csv')"
   ]
  },
  {
   "cell_type": "code",
   "execution_count": null,
   "id": "f8783d31",
   "metadata": {},
   "outputs": [],
   "source": [
    "pd_raw"
   ]
  },
  {
   "cell_type": "code",
   "execution_count": null,
   "id": "0cddd6d3",
   "metadata": {},
   "outputs": [],
   "source": [
    "pd_raw.columns[:]"
   ]
  },
  {
   "cell_type": "code",
   "execution_count": null,
   "id": "8bc354c3",
   "metadata": {},
   "outputs": [],
   "source": [
    "time_idx=pd_raw.columns[12:]"
   ]
  },
  {
   "cell_type": "code",
   "execution_count": null,
   "id": "8e63ee60",
   "metadata": {},
   "outputs": [],
   "source": [
    "df_plot= pd.DataFrame({ 'Date':\n",
    "                       time_idx\n",
    "    \n",
    "})\n",
    "df_plot.head()"
   ]
  },
  {
   "cell_type": "code",
   "execution_count": null,
   "id": "e206bec2",
   "metadata": {},
   "outputs": [],
   "source": [
    "pd_raw['Country_Region'].unique()"
   ]
  },
  {
   "cell_type": "code",
   "execution_count": null,
   "id": "337e9022",
   "metadata": {},
   "outputs": [],
   "source": [
    "pd_raw['Country_Region']"
   ]
  },
  {
   "cell_type": "code",
   "execution_count": null,
   "id": "f42f72d9",
   "metadata": {},
   "outputs": [],
   "source": [
    "pd_raw[pd_raw['Country_Region']=='US']"
   ]
  },
  {
   "cell_type": "code",
   "execution_count": null,
   "id": "cc928c33",
   "metadata": {},
   "outputs": [],
   "source": [
    "import numpy as np\n",
    "country_list=['Italy', 'US', 'Spain','Germany', 'Korea,South']"
   ]
  },
  {
   "cell_type": "code",
   "execution_count": null,
   "id": "12736a4b",
   "metadata": {},
   "outputs": [],
   "source": [
    "for each in country_list:\n",
    "    df_plot[each]=np.array(pd_raw[pd_raw['Country_Region']==each].iloc[:,12::].sum(axis=0))"
   ]
  },
  {
   "cell_type": "code",
   "execution_count": null,
   "id": "253c8c55",
   "metadata": {},
   "outputs": [],
   "source": [
    "df_plot"
   ]
  },
  {
   "cell_type": "code",
   "execution_count": null,
   "id": "d2744b89",
   "metadata": {},
   "outputs": [],
   "source": [
    "df_plot.set_index('Date').plot()"
   ]
  },
  {
   "cell_type": "code",
   "execution_count": null,
   "id": "41ba84d6",
   "metadata": {},
   "outputs": [],
   "source": [
    "# section 4.2 done Conversion of Date Objects"
   ]
  },
  {
   "cell_type": "code",
   "execution_count": null,
   "id": "7d28fe55",
   "metadata": {},
   "outputs": [],
   "source": [
    "df_plot.head()"
   ]
  },
  {
   "cell_type": "code",
   "execution_count": null,
   "id": "8f9710e2",
   "metadata": {},
   "outputs": [],
   "source": [
    "from datetime import datetime"
   ]
  },
  {
   "cell_type": "code",
   "execution_count": null,
   "id": "82bc84dc",
   "metadata": {},
   "outputs": [],
   "source": [
    "df_plot.Date[0]"
   ]
  },
  {
   "cell_type": "code",
   "execution_count": null,
   "id": "ecaea89f",
   "metadata": {},
   "outputs": [],
   "source": [
    "df_plot.to_csv('processed_vaccine.csv', sep=';', index=False)"
   ]
  },
  {
   "cell_type": "code",
   "execution_count": null,
   "id": "c4fccb79",
   "metadata": {},
   "outputs": [],
   "source": [
    "df_plot"
   ]
  },
  {
   "cell_type": "code",
   "execution_count": null,
   "id": "b55cec7c",
   "metadata": {},
   "outputs": [],
   "source": [
    "import pandas as pd\n",
    "import numpy as np\n",
    "from datetime import datetime \n",
    "%matplotlib inline\n",
    "\n",
    "import matplotlib as mpl\n",
    "import matplotlib.pyplot as plt\n",
    "import seaborn as sns"
   ]
  },
  {
   "cell_type": "code",
   "execution_count": null,
   "id": "a4c0e797",
   "metadata": {},
   "outputs": [],
   "source": [
    "mpl.rcParams['figure.figsize']=(16,9)\n",
    "pd.set_option('display.max_rows', 500)\n",
    "sns.set(style=\"darkgrid\")"
   ]
  },
  {
   "cell_type": "code",
   "execution_count": null,
   "id": "e119e972",
   "metadata": {},
   "outputs": [],
   "source": [
    "df_plot = pd.read_csv(\"processed_vaccine.csv\", sep = ';')\n",
    "df_plot.sort_values('Date', ascending=False).head()"
   ]
  },
  {
   "cell_type": "code",
   "execution_count": null,
   "id": "2608a53a",
   "metadata": {},
   "outputs": [],
   "source": [
    "fig = df_plot.iloc[15:,:].set_index('Date').plot()\n",
    "fig.set_ylim(1,300000)\n",
    "fig.set_yscale('log')   #Log scale is used for better visualization of exponential graph\n",
    "fig.set_ylabel('vaccinated people (source: John hopkins csse) (log scale)')"
   ]
  },
  {
   "cell_type": "code",
   "execution_count": null,
   "id": "20e3fe8a",
   "metadata": {},
   "outputs": [],
   "source": [
    "import plotly.graph_objects as go\n",
    "import plotly"
   ]
  },
  {
   "cell_type": "code",
   "execution_count": null,
   "id": "7187f3fc",
   "metadata": {},
   "outputs": [],
   "source": [
    "country_list = ['US', 'Italy', 'Spain', 'Germany', 'Korea,South']"
   ]
  },
  {
   "cell_type": "code",
   "execution_count": null,
   "id": "78ee12e3",
   "metadata": {},
   "outputs": [],
   "source": [
    "fig = go.Figure()\n",
    "\n",
    "# Define how to plot individual traces\n",
    "for i in country_list:\n",
    "    fig.add_trace(go.Scatter(x = df_plot['Date'], \n",
    "                             y = df_plot[i],\n",
    "                             name= i,\n",
    "                             mode='markers+lines',\n",
    "                             line_width = 1,\n",
    "                             marker_size = 3\n",
    "                            )\n",
    "                 )\n",
    "\n",
    "# Defines the overall graph properties    \n",
    "fig.update_layout(xaxis_title='Time', \n",
    "                  yaxis_title='Vaccinated people (source: John hopkins csse) (log scale)',\n",
    "                  width = 1000, \n",
    "                  height = 800)\n",
    "fig.update_yaxes(type = 'log')\n",
    "\n",
    "fig.update_layout(xaxis_rangeslider_visible=True)"
   ]
  },
  {
   "cell_type": "code",
   "execution_count": null,
   "id": "6ef614ff",
   "metadata": {},
   "outputs": [],
   "source": [
    "import dash\n",
    "dash.__version__\n",
    "import dash_core_components as dcc\n",
    "import dash_html_components as html\n",
    "\n",
    "app = dash.Dash()\n",
    "\n",
    "# Defines layout of the dashboard\n",
    "app.layout = html.Div([\n",
    "    \n",
    "    html.Label('Multi-Select Country'),\n",
    "   \n",
    "    dcc.Dropdown(\n",
    "        id='country_drop_down',\n",
    "        options=[\n",
    "            {'label': 'Italy', 'value': 'Italy'},\n",
    "            {'label': 'US', 'value': 'US'},\n",
    "            {'label': 'Spain', 'value': 'Spain'},\n",
    "            {'label': 'Germany', 'value': 'Germany'},\n",
    "            {'label': 'Korea,South', 'value': 'Korea,South'}\n",
    "        ],\n",
    "        value=['US', 'Germany'], # which are pre-selected\n",
    "        multi=True\n",
    "    ),   \n",
    "        \n",
    "    dcc.Graph(figure=fig, id='main_window_slope')\n",
    "])"
   ]
  },
  {
   "cell_type": "code",
   "execution_count": null,
   "id": "ecd8b0d7",
   "metadata": {},
   "outputs": [],
   "source": [
    "from dash.dependencies import Input, Output\n",
    "\n",
    "#Make dashboard interactive\n",
    "@app.callback(\n",
    "    Output('main_window_slope', 'figure'),\n",
    "    [Input('country_drop_down', 'value')])\n",
    "def update_figure(country_list):\n",
    "    traces = [] \n",
    "    for each in country_list:\n",
    "        traces.append(dict(x=df_plot.Date,\n",
    "                                y=df_plot[each],\n",
    "                                mode='markers+lines',\n",
    "                                opacity=0.8,\n",
    "                                line_width=1,\n",
    "                                marker_size=3, \n",
    "                                name=each\n",
    "                        )\n",
    "                )\n",
    "        \n",
    "    return {\n",
    "            'data': traces,\n",
    "            'layout': dict (\n",
    "                width=1280,\n",
    "                height=720,\n",
    "                yaxis_title=\"Vaccinated people (source johns hopkins csse, log-scale)\",\n",
    "                xaxis={'title':'Timeline',\n",
    "                        'tickangle':-30,\n",
    "                        'nticks':20,\n",
    "                        'tickfont':dict(size=14,color=\"#7f7f7f\"),\n",
    "                        \n",
    "                      },\n",
    "                yaxis={'title':'Vaccinated people (source johns hopkins csse, log-scale)',\n",
    "                       'type':\"log\",\n",
    "                       'range':'[1.1,5.5]'\n",
    "                      }\n",
    "        )\n",
    "    }"
   ]
  },
  {
   "cell_type": "code",
   "execution_count": null,
   "id": "2be1d6cb",
   "metadata": {},
   "outputs": [],
   "source": [
    "app.run_server(debug=True, use_reloader=False)"
   ]
  },
  {
   "cell_type": "code",
   "execution_count": null,
   "id": "bae293e2",
   "metadata": {},
   "outputs": [],
   "source": []
  }
 ],
 "metadata": {
  "kernelspec": {
   "display_name": "Python 3 (ipykernel)",
   "language": "python",
   "name": "python3"
  },
  "language_info": {
   "codemirror_mode": {
    "name": "ipython",
    "version": 3
   },
   "file_extension": ".py",
   "mimetype": "text/x-python",
   "name": "python",
   "nbconvert_exporter": "python",
   "pygments_lexer": "ipython3",
   "version": "3.9.7"
  }
 },
 "nbformat": 4,
 "nbformat_minor": 5
}
