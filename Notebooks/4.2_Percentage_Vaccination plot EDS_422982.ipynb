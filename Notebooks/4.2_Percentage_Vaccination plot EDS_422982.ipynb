{
 "cells": [
  {
   "cell_type": "code",
   "execution_count": null,
   "id": "bdef9ead",
   "metadata": {},
   "outputs": [],
   "source": [
    "import pandas as pd\n",
    "import numpy as np\n",
    "import matplotlib as mpl\n",
    "\n",
    "from datetime import datetime\n",
    "\n",
    "import matplotlib.pyplot as plt\n",
    "%matplotlib inline\n",
    "\n",
    "\n",
    "import plotly.express as px\n",
    "import plotly.graph_objects as go\n",
    "\n",
    "import seaborn as sns\n",
    "pd.set_option('display.max_rows', 1000)\n",
    "\n",
    "mpl.rcParams['figure.figsize'] = (16,9)\n",
    "pd.set_option('display.max_rows', 500)\n",
    "\n",
    "sns.set(style = \"darkgrid\")"
   ]
  },
  {
   "cell_type": "code",
   "execution_count": null,
   "id": "c051af39",
   "metadata": {},
   "outputs": [],
   "source": [
    "V_url = \"https://raw.githubusercontent.com/govex/COVID-19/master/data_tables/vaccine_data/global_data/time_series_covid19_vaccine_doses_admin_global.csv\"\n",
    "df_Vacc = pd.read_csv(V_url)\n",
    "df_Vacc.head()"
   ]
  },
  {
   "cell_type": "code",
   "execution_count": null,
   "id": "b67e9044",
   "metadata": {},
   "outputs": [],
   "source": [
    "df_Vacc['Country_Region'].nunique()"
   ]
  },
  {
   "cell_type": "code",
   "execution_count": null,
   "id": "3957af55",
   "metadata": {},
   "outputs": [],
   "source": [
    "total_shots = df_Vacc[df_Vacc['Country_Region'] == 'India']['2022-06-21'].max()\n",
    "total_popln = df_Vacc[df_Vacc['Country_Region'] == 'India']['Population'].max()\n",
    "total_shots/total_popln\n",
    "# print(0.5*168248674/145200000)\n",
    "# print(0.5*168248674/145200000)"
   ]
  },
  {
   "cell_type": "code",
   "execution_count": null,
   "id": "e0c599b1",
   "metadata": {},
   "outputs": [],
   "source": [
    "V_countries = ['Italy', 'US', 'Spain', 'Germany', 'Korea, South']"
   ]
  },
  {
   "cell_type": "code",
   "execution_count": null,
   "id": "5afe67b0",
   "metadata": {},
   "outputs": [],
   "source": [
    "time_index = df_Vacc.columns[12:]\n",
    "df_Vplot = pd.DataFrame({'date':time_index})\n",
    "df_Vplot"
   ]
  },
  {
   "cell_type": "code",
   "execution_count": null,
   "id": "c554b729",
   "metadata": {},
   "outputs": [],
   "source": [
    "for each in V_countries:\n",
    "    df_Vplot[each] = np.array(df_Vacc[df_Vacc['Country_Region'] == each].iloc[:, 12::].max())\n",
    "df_Vplot[each]"
   ]
  },
  {
   "cell_type": "code",
   "execution_count": null,
   "id": "5bc79419",
   "metadata": {},
   "outputs": [],
   "source": [
    "df_Vplot"
   ]
  },
  {
   "cell_type": "code",
   "execution_count": null,
   "id": "62c7ee5f",
   "metadata": {},
   "outputs": [],
   "source": [
    "for each in V_countries:\n",
    "    df_Vplot[each+\" % vaccinated\"] =(100/3)*(df_Vplot[each])/(df_Vacc[df_Vacc['Country_Region']== each]['Population'].max())\n",
    "# Considering 3-doeses as a metric of complete vaccination\n",
    "df_Vplot"
   ]
  },
  {
   "cell_type": "code",
   "execution_count": null,
   "id": "3fe3c5aa",
   "metadata": {},
   "outputs": [],
   "source": [
    "import missingno as msno"
   ]
  },
  {
   "cell_type": "code",
   "execution_count": null,
   "id": "0f0f29db",
   "metadata": {},
   "outputs": [],
   "source": [
    "msno.matrix(df_Vplot)"
   ]
  },
  {
   "cell_type": "code",
   "execution_count": null,
   "id": "fc594331",
   "metadata": {},
   "outputs": [],
   "source": [
    "df_Vplot.interpolate(method = 'linear', limit_direction = 'backward', inplace = True)\n",
    "msno.matrix(df_Vplot)"
   ]
  },
  {
   "cell_type": "code",
   "execution_count": null,
   "id": "0091ec83",
   "metadata": {},
   "outputs": [],
   "source": [
    "fig = go.Figure()\n",
    "\n",
    "# definition of plotting individual trace\n",
    "for each in V_countries:\n",
    "    fig.add_trace(go.Scatter(x = df_Vplot.date, \n",
    "                             y = df_Vplot[each+\" % vaccinated\"], \n",
    "                             mode = 'markers+lines',\n",
    "                             opacity =0.9,\n",
    "                             name =each, \n",
    "                             line_width = 2, \n",
    "                             marker_size =4\n",
    "                            )\n",
    "                 )\n",
    "    \n",
    "# layout inputs\n",
    "fig.update_layout(xaxis_title = \"Time\", \n",
    "                  yaxis_title = \"Percentage_of_Vaccinated_Population (source johns hopkins csse, log-scale\",\n",
    "                  width = 1000, \n",
    "                  height = 500)\n",
    "\n",
    "# fig.update_yaxes(type = 'log', range = [1.1, 9])\n",
    "# fig.update_layout(xaxis_rangeslider_visible = True)\n",
    "# fig.show(renderer = 'chrome')\n",
    "fig.show()"
   ]
  },
  {
   "cell_type": "code",
   "execution_count": null,
   "id": "1e59b90a",
   "metadata": {},
   "outputs": [],
   "source": [
    "import dash\n",
    "dash.__version__\n",
    "import dash_core_components as dcc\n",
    "import dash_html_components as html\n",
    "\n",
    "app = dash.Dash()\n",
    "\n",
    "# Defines layout of the dashboard\n",
    "app.layout = html.Div([\n",
    "    \n",
    "    html.Label('Multi-Select Country'),\n",
    "   \n",
    "    dcc.Dropdown(\n",
    "        id='country_drop_down',\n",
    "        options=[\n",
    "            {'label': 'Italy', 'value': 'Italy'},\n",
    "            {'label': 'US', 'value': 'US'},\n",
    "            {'label': 'Spain', 'value': 'Spain'},\n",
    "            {'label': 'Germany', 'value': 'Germany'},\n",
    "            {'label': 'Korea,South', 'value': 'Korea,South'}\n",
    "        ],\n",
    "        value=['US', 'Germany'], # which are pre-selected\n",
    "        multi=True\n",
    "    ),   \n",
    "        \n",
    "    dcc.Graph(figure=fig, id='main_window_slope')\n",
    "])"
   ]
  },
  {
   "cell_type": "code",
   "execution_count": null,
   "id": "320fd7f4",
   "metadata": {},
   "outputs": [],
   "source": [
    "from dash.dependencies import Input, Output\n",
    "\n",
    "#Make dashboard interactive\n",
    "@app.callback(\n",
    "    Output('main_window_slope', 'figure'),\n",
    "    [Input('country_drop_down', 'value')])\n",
    "def update_figure(country_list):\n",
    "    traces = [] \n",
    "    for each in country_list:\n",
    "        traces.append(dict(x=df_Vplot.date,\n",
    "                                y=df_Vplot[each+\" % vaccinated\"],\n",
    "                                mode='markers+lines',\n",
    "                                opacity=0.8,\n",
    "                                line_width=1,\n",
    "                                marker_size=3, \n",
    "                                name=each\n",
    "                        )\n",
    "                )\n",
    "        \n",
    "    return {\n",
    "            'data': traces,\n",
    "            'layout': dict (\n",
    "                width=1280,\n",
    "                height=720,\n",
    "                yaxis_title=\"Percentage of Vaccinated people (source johns hopkins csse, log-scale)\",\n",
    "                xaxis={'title':'Timeline',\n",
    "                        'tickangle':-30,\n",
    "                        'nticks':20,\n",
    "                        'tickfont':dict(size=14,color=\"#7f7f7f\"),\n",
    "                        \n",
    "                      },\n",
    "                yaxis={'title':'Percentage of Vaccinated people (source johns hopkins csse, log-scale)',\n",
    "                       'type':\"log\",\n",
    "                       'range':'[1.1,5.5]'\n",
    "                      }\n",
    "        )\n",
    "    }"
   ]
  },
  {
   "cell_type": "code",
   "execution_count": null,
   "id": "6225a8bd",
   "metadata": {},
   "outputs": [],
   "source": [
    "app.run_server(debug=True, use_reloader=False)"
   ]
  },
  {
   "cell_type": "code",
   "execution_count": null,
   "id": "878ff8b0",
   "metadata": {},
   "outputs": [],
   "source": []
  }
 ],
 "metadata": {
  "kernelspec": {
   "display_name": "Python 3 (ipykernel)",
   "language": "python",
   "name": "python3"
  },
  "language_info": {
   "codemirror_mode": {
    "name": "ipython",
    "version": 3
   },
   "file_extension": ".py",
   "mimetype": "text/x-python",
   "name": "python",
   "nbconvert_exporter": "python",
   "pygments_lexer": "ipython3",
   "version": "3.9.7"
  }
 },
 "nbformat": 4,
 "nbformat_minor": 5
}
