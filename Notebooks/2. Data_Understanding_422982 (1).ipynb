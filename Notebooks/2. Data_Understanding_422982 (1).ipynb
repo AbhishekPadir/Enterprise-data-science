{
 "cells": [
  {
   "cell_type": "code",
   "execution_count": null,
   "id": "4c3f480d",
   "metadata": {},
   "outputs": [],
   "source": [
    "import subprocess\n",
    "import os\n",
    "import pandas as pd\n",
    "import requests\n",
    "from bs4 import BeautifulSoup\n",
    "import json\n",
    "pd.set_option('display.max_rows', 500)"
   ]
  },
  {
   "cell_type": "code",
   "execution_count": null,
   "id": "9e11a328",
   "metadata": {},
   "outputs": [],
   "source": [
    "page=requests.get('https://www.rki.de/DE/Content/InfAZ/N/Neuartiges_Coronavirus/Fallzahlen.html')"
   ]
  },
  {
   "cell_type": "code",
   "execution_count": null,
   "id": "4bb0d70f",
   "metadata": {},
   "outputs": [],
   "source": [
    "soup=BeautifulSoup(page.content, 'html.parser')"
   ]
  },
  {
   "cell_type": "code",
   "execution_count": null,
   "id": "1af1199a",
   "metadata": {},
   "outputs": [],
   "source": [
    "html_table=soup.find('table')"
   ]
  },
  {
   "cell_type": "code",
   "execution_count": null,
   "id": "c1ce07a2",
   "metadata": {},
   "outputs": [],
   "source": [
    "all_rows=html_table.find_all('tr')"
   ]
  },
  {
   "cell_type": "code",
   "execution_count": null,
   "id": "000ee74e",
   "metadata": {},
   "outputs": [],
   "source": [
    "final_data_list=[]"
   ]
  },
  {
   "cell_type": "code",
   "execution_count": null,
   "id": "249399bd",
   "metadata": {},
   "outputs": [],
   "source": [
    "for pos, rows in enumerate(all_rows):\n",
    "    \n",
    "    col_list=[each_col.get_text(strip=True) for each_col in rows.find_all('td')]\n",
    "    final_data_list.append(col_list)"
   ]
  },
  {
   "cell_type": "code",
   "execution_count": null,
   "id": "6de96cea",
   "metadata": {},
   "outputs": [],
   "source": [
    "pd.DataFrame(final_data_list).dropna().rename(columns={0:'state'})"
   ]
  },
  {
   "cell_type": "code",
   "execution_count": null,
   "id": "34cdd975",
   "metadata": {},
   "outputs": [],
   "source": [
    "# section 3.4 Rest API Calls"
   ]
  },
  {
   "cell_type": "code",
   "execution_count": null,
   "id": "232931f2",
   "metadata": {},
   "outputs": [],
   "source": [
    "data=requests.get('https://services7.arcgis.com/mOBPykOjAyBO2ZKk/arcgis/rest/services/Coronaf%C3%A4lle_in_den_Bundesl%C3%A4ndern/FeatureServer/0/query?outFields=*&where=1%3D1&f=geojson')"
   ]
  },
  {
   "cell_type": "code",
   "execution_count": null,
   "id": "6d5bc7f4",
   "metadata": {},
   "outputs": [],
   "source": [
    "import json"
   ]
  },
  {
   "cell_type": "code",
   "execution_count": null,
   "id": "e268c044",
   "metadata": {},
   "outputs": [],
   "source": [
    "json_objects=json.loads((data.content))"
   ]
  },
  {
   "cell_type": "code",
   "execution_count": null,
   "id": "8c7feb1e",
   "metadata": {},
   "outputs": [],
   "source": [
    "type(json_objects)"
   ]
  },
  {
   "cell_type": "code",
   "execution_count": null,
   "id": "87518fc2",
   "metadata": {},
   "outputs": [],
   "source": [
    "full_list=[]\n",
    "for pos,each_dict in enumerate (json_objects['features'][:]):\n",
    "    full_list.append(each_dict['properties'])"
   ]
  },
  {
   "cell_type": "code",
   "execution_count": null,
   "id": "df87d42d",
   "metadata": {
    "scrolled": true
   },
   "outputs": [],
   "source": [
    "pd.DataFrame(full_list)"
   ]
  },
  {
   "cell_type": "code",
   "execution_count": null,
   "id": "3f38d3fa",
   "metadata": {},
   "outputs": [],
   "source": []
  }
 ],
 "metadata": {
  "kernelspec": {
   "display_name": "Python 3 (ipykernel)",
   "language": "python",
   "name": "python3"
  },
  "language_info": {
   "codemirror_mode": {
    "name": "ipython",
    "version": 3
   },
   "file_extension": ".py",
   "mimetype": "text/x-python",
   "name": "python",
   "nbconvert_exporter": "python",
   "pygments_lexer": "ipython3",
   "version": "3.9.7"
  }
 },
 "nbformat": 4,
 "nbformat_minor": 5
}
