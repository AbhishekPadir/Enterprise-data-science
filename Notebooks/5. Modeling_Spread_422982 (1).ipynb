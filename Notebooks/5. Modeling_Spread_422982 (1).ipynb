{
 "cells": [
  {
   "cell_type": "code",
   "execution_count": null,
   "id": "e8fe3f8a",
   "metadata": {},
   "outputs": [],
   "source": [
    "import pandas as pd\n",
    "import numpy as np\n",
    "from datetime import datetime \n",
    "%matplotlib inline\n",
    "\n",
    "import matplotlib as mpl\n",
    "import matplotlib.pyplot as plt\n",
    "import seaborn as sns\n",
    "import plotly.graph_objects as go\n",
    "import plotly\n",
    "\n",
    "\n",
    "mpl.rcParams['figure.figsize']=(16,9)\n",
    "pd.set_option('display.max_rows', 500)\n",
    "sns.set(style=\"darkgrid\")\n",
    "\n",
    "import plotly.graph_objects as go"
   ]
  },
  {
   "cell_type": "code",
   "execution_count": null,
   "id": "75d5d20c",
   "metadata": {},
   "outputs": [],
   "source": [
    "df_analyse=pd.read_csv('processed.csv', sep=';')"
   ]
  },
  {
   "cell_type": "code",
   "execution_count": null,
   "id": "81289e28",
   "metadata": {},
   "outputs": [],
   "source": [
    "df_analyse.sort_values('Date',ascending=True).tail()"
   ]
  },
  {
   "cell_type": "code",
   "execution_count": null,
   "id": "0be774a5",
   "metadata": {},
   "outputs": [],
   "source": [
    "country_list = df_analyse.columns[1:]"
   ]
  },
  {
   "cell_type": "code",
   "execution_count": null,
   "id": "649d0b4f",
   "metadata": {},
   "outputs": [],
   "source": [
    "def quick_plot(x_in, df, y_scale = 'log', slider = False, xname = ' ', yname = ' ', figname = ' '):\n",
    "    \"\"\" Quick basic plot for quick static evaluation of a time series\n",
    "    \n",
    "        you can push selective columns of your data frame by .iloc[:,[0,6,7,8]]\n",
    "        \n",
    "        Parameters:\n",
    "        ----------\n",
    "        x_in : array \n",
    "            array of date time object, or array of numbers\n",
    "        df_input : pandas dataframe \n",
    "            the plotting matrix where each column is plotted\n",
    "            the name of the column will be used for the legend\n",
    "        scale: str\n",
    "            y-axis scale as 'log' or 'linear'\n",
    "        slider: bool\n",
    "            True or False for x-axis slider\n",
    "        xname : str\n",
    "            Title of the X axis\n",
    "        yname : str\n",
    "            Title of the Y axis\n",
    "        figname : str\n",
    "            Title of the figure\n",
    "        \n",
    "        Returns:\n",
    "        ----------\n",
    "        Return type: Figure\n",
    "    \n",
    "    \"\"\"    \n",
    "    fig = go.Figure()\n",
    "    for each in df.columns:\n",
    "        fig.add_trace(go.Scatter(x=x_in, \n",
    "                                 y=df[each], \n",
    "                                 name= each,\n",
    "                                 mode= 'markers+lines',\n",
    "                                 line_width = 1,\n",
    "                                 marker_size = 3)\n",
    "                     )\n",
    "    fig.update_layout(xaxis_title = xname,\n",
    "                      yaxis_title = yname,\n",
    "                      width = 1000, \n",
    "                      height = 800,\n",
    "                      title={\n",
    "                        'text': figname,\n",
    "                        'y':0.9,\n",
    "                        'x':0.5,\n",
    "                        'xanchor': 'center',\n",
    "                        'yanchor': 'top'}\n",
    "                    )\n",
    "    fig.update_yaxes(type = y_scale)\n",
    "    fig.update_xaxes(tickangle=-45,\n",
    "                 nticks=20,\n",
    "                 tickfont=dict(size=14,color=\"#7f7f7f\")\n",
    "                )    \n",
    "    if slider==True:\n",
    "        fig.update_layout(xaxis_rangeslider_visible=True)\n",
    "    fig.show()"
   ]
  },
  {
   "cell_type": "code",
   "execution_count": null,
   "id": "2fcd2221",
   "metadata": {},
   "outputs": [],
   "source": [
    "#to check the helper function\n",
    "quick_plot(df_analyse.Date,\n",
    "           df_analyse.iloc[:,1:],\n",
    "           y_scale='log',\n",
    "           slider=True,\n",
    "           xname = 'Date',\n",
    "           yname = 'Confirmed infected people (source: John Hopkins csse) (log scale)',\n",
    "           figname = 'Corona confirmed cases'\n",
    "          )"
   ]
  },
  {
   "cell_type": "code",
   "execution_count": null,
   "id": "9b4b7af9",
   "metadata": {},
   "outputs": [],
   "source": [
    "# Compare confirmed cases from some 'threshold' value\n",
    "threshold = 150 "
   ]
  },
  {
   "cell_type": "code",
   "execution_count": null,
   "id": "e203e0b2",
   "metadata": {},
   "outputs": [],
   "source": [
    "compare_list = []\n",
    "for pos, each in enumerate(df_analyse.columns[1:]):\n",
    "    compare_list.append(np.array(df_analyse[each][df_analyse[each]>threshold]))  "
   ]
  },
  {
   "cell_type": "code",
   "execution_count": null,
   "id": "4d8a346b",
   "metadata": {},
   "outputs": [],
   "source": [
    "pd_sync_timelines = pd.DataFrame(compare_list, index = df_analyse.columns[1:]).T"
   ]
  },
  {
   "cell_type": "code",
   "execution_count": null,
   "id": "f20d8219",
   "metadata": {},
   "outputs": [],
   "source": [
    "pd_sync_timelines['day'] = np.arange(pd_sync_timelines.shape[0])"
   ]
  },
  {
   "cell_type": "code",
   "execution_count": null,
   "id": "09843511",
   "metadata": {},
   "outputs": [],
   "source": [
    "pd_sync_timelines.head()"
   ]
  },
  {
   "cell_type": "code",
   "execution_count": null,
   "id": "155208d0",
   "metadata": {},
   "outputs": [],
   "source": [
    "quick_plot(pd_sync_timelines.day,\n",
    "           pd_sync_timelines.iloc[:,:-1],\n",
    "           y_scale='log',\n",
    "           slider=True,\n",
    "           xname = 'Time in days',\n",
    "           yname = 'Confirmed infected people (source: John Hopkins csse) (log scale)',\n",
    "           figname = 'Comparison of corona cases'\n",
    "          )"
   ]
  },
  {
   "cell_type": "markdown",
   "id": "52fc8433",
   "metadata": {},
   "source": [
    "# Doubling Rate"
   ]
  },
  {
   "cell_type": "code",
   "execution_count": null,
   "id": "136c389b",
   "metadata": {},
   "outputs": [],
   "source": [
    "def doubling_rate(N_0,t,T_d):\n",
    "    return N_0*np.power(2,t/T_d)"
   ]
  },
  {
   "cell_type": "code",
   "execution_count": null,
   "id": "75d13589",
   "metadata": {},
   "outputs": [],
   "source": [
    "max_days=100"
   ]
  },
  {
   "cell_type": "code",
   "execution_count": null,
   "id": "c1cdf790",
   "metadata": {},
   "outputs": [],
   "source": [
    "norm_slopes={\n",
    "    'doubling every day':doubling_rate(100,np.arange(max_days),1),\n",
    "    'doubling every two days':doubling_rate(100,np.arange(max_days),2),\n",
    "    'doubling every 4 days':doubling_rate(100,np.arange(max_days),4),\n",
    "    'doubling every 10 days':doubling_rate(100,np.arange(max_days),10),\n",
    "}"
   ]
  },
  {
   "cell_type": "code",
   "execution_count": null,
   "id": "9c9dbff7",
   "metadata": {},
   "outputs": [],
   "source": [
    "pd_sync_timelines_w_slope = pd.concat([pd.DataFrame(norm_slopes),pd_sync_timelines], axis=1)\n",
    "pd_sync_timelines_w_slope.head()"
   ]
  },
  {
   "cell_type": "code",
   "execution_count": null,
   "id": "5e921d9f",
   "metadata": {},
   "outputs": [],
   "source": [
    "quick_plot(pd_sync_timelines_w_slope.day,\n",
    "           pd_sync_timelines_w_slope.iloc[:,1:9],\n",
    "           y_scale='log',\n",
    "           slider=True,\n",
    "           xname = 'Time in days',\n",
    "           yname = 'Confirmed infected people (source: John Hopkins csse) (log scale)',\n",
    "           figname = 'Corona infection rate of different countries'           \n",
    "          )"
   ]
  },
  {
   "cell_type": "code",
   "execution_count": null,
   "id": "9ae9f108",
   "metadata": {},
   "outputs": [],
   "source": [
    "pd_sync_timelines_w_slope.to_csv('COVID_small_sync_timeline_table.csv',sep=';',index=False)"
   ]
  },
  {
   "cell_type": "code",
   "execution_count": null,
   "id": "d2b6a6ec",
   "metadata": {},
   "outputs": [],
   "source": [
    "from sklearn import linear_model\n",
    "reg  = linear_model.LinearRegression(fit_intercept=False)"
   ]
  },
  {
   "cell_type": "code",
   "execution_count": null,
   "id": "b572e2aa",
   "metadata": {},
   "outputs": [],
   "source": [
    "l_vec = len(df_analyse['Italy'])\n",
    "X=np.arange(l_vec-10).reshape(-1, 1) # Feature(training) \n",
    "y=np.log(np.array(df_analyse['Italy'][10:])) #Targets(training)"
   ]
  },
  {
   "cell_type": "code",
   "execution_count": null,
   "id": "7e35bcec",
   "metadata": {},
   "outputs": [],
   "source": [
    "reg.fit(X,y) # Train the model"
   ]
  },
  {
   "cell_type": "code",
   "execution_count": null,
   "id": "5195df9a",
   "metadata": {},
   "outputs": [],
   "source": [
    "X_hat = np.arange(l_vec).reshape(-1, 1) #Feature(test)\n",
    "y_hat = reg.predict(X_hat) # Prediction"
   ]
  },
  {
   "cell_type": "code",
   "execution_count": null,
   "id": "a57dde50",
   "metadata": {},
   "outputs": [],
   "source": [
    "LR_inspect = df_analyse[['Italy','Date']].copy()\n",
    "LR_inspect['prediction'] = np.exp(y_hat)\n",
    "LR_inspect.head()"
   ]
  },
  {
   "cell_type": "code",
   "execution_count": null,
   "id": "0e7d0223",
   "metadata": {},
   "outputs": [],
   "source": [
    "fig = go.Figure()\n",
    "quick_plot(LR_inspect.Date,\n",
    "           LR_inspect.iloc[:,::2],\n",
    "           y_scale='log',\n",
    "           slider=True,\n",
    "           xname = 'Date',\n",
    "           yname = 'Infected people (source: John Hopkins csse) (log scale)',\n",
    "           figname = 'Linear regression'          \n",
    "          )"
   ]
  },
  {
   "cell_type": "markdown",
   "id": "27a8c230",
   "metadata": {},
   "source": [
    "# Doubling Rate - Piecewise Linear Regression"
   ]
  },
  {
   "cell_type": "code",
   "execution_count": null,
   "id": "2227b7ac",
   "metadata": {},
   "outputs": [],
   "source": [
    "from sklearn import linear_model\n",
    "from scipy import signal"
   ]
  },
  {
   "cell_type": "code",
   "execution_count": null,
   "id": "92f5108d",
   "metadata": {},
   "outputs": [],
   "source": [
    "reg  = linear_model.LinearRegression(fit_intercept=True)"
   ]
  },
  {
   "cell_type": "code",
   "execution_count": null,
   "id": "c0f10f9f",
   "metadata": {},
   "outputs": [],
   "source": [
    "l_vec = len(df_analyse['Italy'])\n",
    "X=np.arange(l_vec-10).reshape(-1, 1)\n",
    "y=np.array(df_analyse['Italy'][10:])"
   ]
  },
  {
   "cell_type": "code",
   "execution_count": null,
   "id": "28be37bb",
   "metadata": {},
   "outputs": [],
   "source": [
    "df_analyse=pd.read_csv('processed.csv',sep=';',parse_dates=[0])  \n",
    "country_list=df_analyse.columns[1:]"
   ]
  },
  {
   "cell_type": "code",
   "execution_count": null,
   "id": "468bd7d3",
   "metadata": {},
   "outputs": [],
   "source": [
    "filter_cols = []\n",
    "for each in country_list:\n",
    "    df_analyse[each+'_filter']=signal.savgol_filter(df_analyse[each],\n",
    "                           5, # Window size used for filtering\n",
    "                           1) # Order of fitted polynomial\n",
    "    filter_cols.append(each+'_filter')"
   ]
  },
  {
   "cell_type": "code",
   "execution_count": null,
   "id": "5ade20a5",
   "metadata": {},
   "outputs": [],
   "source": [
    "start_pos=5\n",
    "quick_plot(df_analyse.Date[start_pos:],\n",
    "           df_analyse[filter_cols].iloc[start_pos:,:], #['US','US_filter']\n",
    "           y_scale='log',\n",
    "           slider=True,\n",
    "           xname = 'Date',\n",
    "           yname = 'Number of cases (filtered) (log scale)',\n",
    "           figname = 'Filtered number of cases')"
   ]
  },
  {
   "cell_type": "code",
   "execution_count": null,
   "id": "4e38868b",
   "metadata": {},
   "outputs": [],
   "source": [
    "df_analyse.head()"
   ]
  },
  {
   "cell_type": "code",
   "execution_count": null,
   "id": "d4e07387",
   "metadata": {},
   "outputs": [],
   "source": [
    "def get_doubling_time_via_regression(in_array):\n",
    "    ''' Use a linear regression to approximate the doubling rate'''\n",
    "    y = np.array(in_array)\n",
    "    X = np.arange(-1,2).reshape(-1, 1)\n",
    "    \n",
    "    assert len(in_array)==3\n",
    "    reg.fit(X,y)\n",
    "    intercept=reg.intercept_\n",
    "    slope=reg.coef_\n",
    "    \n",
    "    return intercept/slope"
   ]
  },
  {
   "cell_type": "code",
   "execution_count": null,
   "id": "c615daf2",
   "metadata": {},
   "outputs": [],
   "source": [
    "def doubling_time(in_array):\n",
    "    ''' Use a classical doubling time formula, see https://en.wikipedia.org/wiki/Doubling_time '''\n",
    "    y = np.array(in_array)\n",
    "    return len(y)*np.log(2)/np.log(y[-1]/y[0])"
   ]
  },
  {
   "cell_type": "code",
   "execution_count": null,
   "id": "10e7d960",
   "metadata": {},
   "outputs": [],
   "source": [
    "# Calculate slope of regression of last x days\n",
    "# Use always a limited number of days to approximate the triangle\n",
    "days_back = 3  # This gives a smoothing effect\n",
    "for pos,country in enumerate(country_list):\n",
    "    df_analyse[country+'_DR']=df_analyse[country].rolling(\n",
    "                                window=days_back,\n",
    "                                min_periods=days_back).apply(get_doubling_time_via_regression, raw=False)"
   ]
  },
  {
   "cell_type": "code",
   "execution_count": null,
   "id": "7d3dae99",
   "metadata": {},
   "outputs": [],
   "source": [
    "# Run on all filtered data\n",
    "days_back = 3 # this gives a smoothing effect\n",
    "for pos,country in enumerate(filter_cols):\n",
    "    df_analyse[country+'_DR']=df_analyse[country].rolling(\n",
    "                                window=days_back,\n",
    "                                min_periods=days_back).apply(get_doubling_time_via_regression, raw=False)"
   ]
  },
  {
   "cell_type": "code",
   "execution_count": null,
   "id": "1fe79bb9",
   "metadata": {},
   "outputs": [],
   "source": [
    "# Cross check the math \n",
    "df_analyse['Italy_DR_math']=df_analyse['Italy'].rolling(\n",
    "                                window=days_back,\n",
    "                                min_periods=days_back).apply(doubling_time, raw=False)\n",
    "df_analyse.columns"
   ]
  },
  {
   "cell_type": "code",
   "execution_count": null,
   "id": "29d3e08c",
   "metadata": {},
   "outputs": [],
   "source": [
    "start_pos=40\n",
    "quick_plot(df_analyse.Date[start_pos: start_pos+30],\n",
    "           df_analyse.iloc[start_pos: start_pos+30,[11,12,13,14,15]],\n",
    "           y_scale='linear',\n",
    "           slider=True,\n",
    "           xname = 'Date',\n",
    "           yname = 'Doubling rate',\n",
    "           figname = 'Doubling rate'\n",
    "          )"
   ]
  },
  {
   "cell_type": "code",
   "execution_count": null,
   "id": "e9262f7d",
   "metadata": {},
   "outputs": [],
   "source": [
    "start_pos=40\n",
    "quick_plot(df_analyse.Date[start_pos: start_pos+30],\n",
    "           df_analyse.iloc[start_pos:start_pos+30, [16,17,18,19,20]],\n",
    "           y_scale='linear',\n",
    "           slider=True,\n",
    "           xname = 'Date',\n",
    "           yname = 'Doubling rate(filtered data)',\n",
    "           figname = 'Doubling rate for filtered data'\n",
    "          )"
   ]
  },
  {
   "cell_type": "code",
   "execution_count": null,
   "id": "052cbacf",
   "metadata": {},
   "outputs": [],
   "source": []
  },
  {
   "cell_type": "code",
   "execution_count": null,
   "id": "91542c76",
   "metadata": {},
   "outputs": [],
   "source": []
  }
 ],
 "metadata": {
  "kernelspec": {
   "display_name": "Python 3 (ipykernel)",
   "language": "python",
   "name": "python3"
  },
  "language_info": {
   "codemirror_mode": {
    "name": "ipython",
    "version": 3
   },
   "file_extension": ".py",
   "mimetype": "text/x-python",
   "name": "python",
   "nbconvert_exporter": "python",
   "pygments_lexer": "ipython3",
   "version": "3.9.7"
  }
 },
 "nbformat": 4,
 "nbformat_minor": 5
}
