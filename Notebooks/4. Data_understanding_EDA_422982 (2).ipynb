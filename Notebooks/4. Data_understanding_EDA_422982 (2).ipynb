{
 "cells": [
  {
   "cell_type": "code",
   "execution_count": null,
   "id": "c457e68c",
   "metadata": {},
   "outputs": [],
   "source": [
    "import pandas as pd\n",
    "import numpy as np\n",
    "from datetime import datetime \n",
    "%matplotlib inline\n",
    "\n",
    "import matplotlib as mpl\n",
    "import matplotlib.pyplot as plt\n",
    "import seaborn as sns"
   ]
  },
  {
   "cell_type": "code",
   "execution_count": null,
   "id": "ac3b4ef7",
   "metadata": {},
   "outputs": [],
   "source": [
    "mpl.rcParams['figure.figsize']=(16,9)\n",
    "pd.set_option('display.max_rows', 500)\n",
    "sns.set(style=\"darkgrid\")"
   ]
  },
  {
   "cell_type": "code",
   "execution_count": null,
   "id": "1409ada9",
   "metadata": {},
   "outputs": [],
   "source": [
    "df_plot = pd.read_csv(\"processed.csv\", sep = ';')\n",
    "df_plot.sort_values('Date', ascending=False).head()"
   ]
  },
  {
   "cell_type": "code",
   "execution_count": null,
   "id": "ae023d4d",
   "metadata": {},
   "outputs": [],
   "source": [
    "fig = df_plot.iloc[15:,:].set_index('Date').plot()\n",
    "fig.set_ylim(1,300000)\n",
    "fig.set_yscale('log')   #Log scale is used for better visualization of exponential graph\n",
    "fig.set_ylabel('Confirmed cases (source: John hopkins csse) (log scale)')"
   ]
  },
  {
   "cell_type": "code",
   "execution_count": null,
   "id": "32225cbd",
   "metadata": {},
   "outputs": [],
   "source": [
    "import plotly.graph_objects as go\n",
    "import plotly"
   ]
  },
  {
   "cell_type": "code",
   "execution_count": null,
   "id": "06baa3fd",
   "metadata": {},
   "outputs": [],
   "source": [
    "country_list = ['US', 'Italy', 'Spain', 'Germany', 'Korea,South']"
   ]
  },
  {
   "cell_type": "code",
   "execution_count": null,
   "id": "cd17cb63",
   "metadata": {},
   "outputs": [],
   "source": [
    "fig = go.Figure()\n",
    "\n",
    "# Define how to plot individual traces\n",
    "for i in country_list:\n",
    "    fig.add_trace(go.Scatter(x = df_plot['Date'], \n",
    "                             y = df_plot[i],\n",
    "                             name= i,\n",
    "                             mode='markers+lines',\n",
    "                             line_width = 1,\n",
    "                             marker_size = 3\n",
    "                            )\n",
    "                 )\n",
    "\n",
    "# Defines the overall graph properties    \n",
    "fig.update_layout(xaxis_title='Time', \n",
    "                  yaxis_title='Confirmed infected people (source: John hopkins csse) (log scale)',\n",
    "                  width = 1000, \n",
    "                  height = 800)\n",
    "fig.update_yaxes(type = 'log')\n",
    "\n",
    "fig.update_layout(xaxis_rangeslider_visible=True)"
   ]
  },
  {
   "cell_type": "code",
   "execution_count": null,
   "id": "b5741ac5",
   "metadata": {},
   "outputs": [],
   "source": [
    "import dash\n",
    "dash.__version__\n",
    "import dash_core_components as dcc\n",
    "import dash_html_components as html\n",
    "\n",
    "app = dash.Dash()\n",
    "\n",
    "# Defines layout of the dashboard\n",
    "app.layout = html.Div([\n",
    "    \n",
    "    html.Label('Multi-Select Country'),\n",
    "   \n",
    "    dcc.Dropdown(\n",
    "        id='country_drop_down',\n",
    "        options=[\n",
    "            {'label': 'Italy', 'value': 'Italy'},\n",
    "            {'label': 'US', 'value': 'US'},\n",
    "            {'label': 'Spain', 'value': 'Spain'},\n",
    "            {'label': 'Germany', 'value': 'Germany'},\n",
    "            {'label': 'Korea,South', 'value': 'Korea,South'}\n",
    "        ],\n",
    "        value=['US', 'Germany'], # which are pre-selected\n",
    "        multi=True\n",
    "    ),   \n",
    "        \n",
    "    dcc.Graph(figure=fig, id='main_window_slope')\n",
    "])"
   ]
  },
  {
   "cell_type": "code",
   "execution_count": null,
   "id": "f72f84ad",
   "metadata": {},
   "outputs": [],
   "source": [
    "from dash.dependencies import Input, Output\n",
    "\n",
    "#Make dashboard interactive\n",
    "@app.callback(\n",
    "    Output('main_window_slope', 'figure'),\n",
    "    [Input('country_drop_down', 'value')])\n",
    "def update_figure(country_list):\n",
    "    traces = [] \n",
    "    for each in country_list:\n",
    "        traces.append(dict(x=df_plot.Date,\n",
    "                                y=df_plot[each],\n",
    "                                mode='markers+lines',\n",
    "                                opacity=0.8,\n",
    "                                line_width=1,\n",
    "                                marker_size=3, \n",
    "                                name=each\n",
    "                        )\n",
    "                )\n",
    "        \n",
    "    return {\n",
    "            'data': traces,\n",
    "            'layout': dict (\n",
    "                width=1280,\n",
    "                height=720,\n",
    "                yaxis_title=\"Confirmed infected people (source johns hopkins csse, log-scale)\",\n",
    "                xaxis={'title':'Timeline',\n",
    "                        'tickangle':-30,\n",
    "                        'nticks':20,\n",
    "                        'tickfont':dict(size=14,color=\"#7f7f7f\"),\n",
    "                        \n",
    "                      },\n",
    "                yaxis={'title':'Confirmed infected people (source johns hopkins csse, log-scale)',\n",
    "                       'type':\"log\",\n",
    "                       'range':'[1.1,5.5]'\n",
    "                      }\n",
    "        )\n",
    "    }"
   ]
  },
  {
   "cell_type": "code",
   "execution_count": null,
   "id": "085070c5",
   "metadata": {},
   "outputs": [],
   "source": [
    "#app.run_server(debug=True, use_reloader=False)"
   ]
  },
  {
   "cell_type": "code",
   "execution_count": null,
   "id": "994f9dbe",
   "metadata": {},
   "outputs": [],
   "source": [
    "df_plot = pd.read_csv(\"processed.csv\", sep  =';')\n",
    "df_plot.sort_values('Date',ascending=False).head()"
   ]
  },
  {
   "cell_type": "code",
   "execution_count": null,
   "id": "9762323a",
   "metadata": {},
   "outputs": [],
   "source": [
    "V_url = \"https://raw.githubusercontent.com/govex/COVID-19/master/data_tables/vaccine_data/global_data/time_series_covid19_vaccine_doses_admin_global.csv\"\n",
    "df_Vacc = pd.read_csv(V_url)"
   ]
  },
  {
   "cell_type": "code",
   "execution_count": null,
   "id": "9a76dfee",
   "metadata": {},
   "outputs": [],
   "source": [
    "country_list = ['US', 'Italy', 'Spain', 'Germany', 'Korea,South']"
   ]
  },
  {
   "cell_type": "code",
   "execution_count": null,
   "id": "d5cd517c",
   "metadata": {},
   "outputs": [],
   "source": [
    "df_Iplot = df_plot\n",
    "for country in country_list:\n",
    "    df_Iplot[ country + \" % Infected\"] = 100*(df_plot[country])/(df_Vacc[df_Vacc['Country_Region']== country]['Population'].max())"
   ]
  },
  {
   "cell_type": "code",
   "execution_count": null,
   "id": "fac12818",
   "metadata": {},
   "outputs": [],
   "source": [
    "df_Iplot"
   ]
  },
  {
   "cell_type": "code",
   "execution_count": null,
   "id": "07957a42",
   "metadata": {},
   "outputs": [],
   "source": [
    "!pip install --user missingno"
   ]
  },
  {
   "cell_type": "code",
   "execution_count": null,
   "id": "e06729a1",
   "metadata": {},
   "outputs": [],
   "source": [
    "import missingno as msno"
   ]
  },
  {
   "cell_type": "code",
   "execution_count": null,
   "id": "2fb683f7",
   "metadata": {},
   "outputs": [],
   "source": [
    "msno.matrix(df_Iplot)"
   ]
  },
  {
   "cell_type": "code",
   "execution_count": null,
   "id": "b77892ed",
   "metadata": {},
   "outputs": [],
   "source": [
    "df_Iplot.interpolate(method = 'linear', limit_direction = 'backward', inplace = True)\n",
    "msno.matrix(df_Iplot)"
   ]
  },
  {
   "cell_type": "code",
   "execution_count": null,
   "id": "6c1bda58",
   "metadata": {},
   "outputs": [],
   "source": [
    "fig = go.Figure()\n",
    "\n",
    "# definition of plotting individual trace\n",
    "for each in country_list:\n",
    "    fig.add_trace(go.Scatter(x = df_Iplot.Date, \n",
    "                             y = df_Iplot[each+\" % Infected\"], \n",
    "                             mode = 'markers+lines',\n",
    "                             opacity =0.9,\n",
    "                             name =each, \n",
    "                             line_width = 2, \n",
    "                             marker_size =4\n",
    "                            )\n",
    "                 )\n",
    "    \n",
    "# layout inputs\n",
    "fig.update_layout(xaxis_title = \"Time\", \n",
    "                  yaxis_title = \"Percentage_of_Infected_Population (source johns hopkins csse, log-scale\",\n",
    "                  width = 1000, \n",
    "                  height = 500)\n",
    "\n",
    "# fig.update_yaxes(type = 'log', range = [1.1, 9])\n",
    "# fig.update_layout(xaxis_rangeslider_visible = True)\n",
    "#fig.show(renderer = 'chrome')\n",
    "fig.show()"
   ]
  },
  {
   "cell_type": "code",
   "execution_count": null,
   "id": "712ee5da",
   "metadata": {},
   "outputs": [],
   "source": [
    "import dash\n",
    "dash.__version__\n",
    "import dash_core_components as dcc\n",
    "import dash_html_components as html\n",
    "\n",
    "app = dash.Dash()\n",
    "\n",
    "# Defines layout of the dashboard\n",
    "app.layout = html.Div([\n",
    "    \n",
    "    html.Label('Multi-Select Country'),\n",
    "   \n",
    "    dcc.Dropdown(\n",
    "        id='country_drop_down',\n",
    "        options=[\n",
    "            {'label': 'Italy', 'value': 'Italy'},\n",
    "            {'label': 'US', 'value': 'US'},\n",
    "            {'label': 'Spain', 'value': 'Spain'},\n",
    "            {'label': 'Germany', 'value': 'Germany'},\n",
    "            {'label': 'Korea,South', 'value': 'Korea,South'}\n",
    "        ],\n",
    "        value=['US', 'Germany'], # which are pre-selected\n",
    "        multi=True\n",
    "    ),   \n",
    "        \n",
    "    dcc.Graph(figure=fig, id='main_window_slope')\n",
    "])"
   ]
  },
  {
   "cell_type": "code",
   "execution_count": null,
   "id": "9de868bb",
   "metadata": {},
   "outputs": [],
   "source": [
    "from dash.dependencies import Input, Output\n",
    "\n",
    "#Make dashboard interactive\n",
    "@app.callback(\n",
    "    Output('main_window_slope', 'figure'),\n",
    "    [Input('country_drop_down', 'value')])\n",
    "def update_figure(country_list):\n",
    "    traces = [] \n",
    "    for each in country_list:\n",
    "        traces.append(dict(x=df_Iplot.Date,\n",
    "                                y=df_Iplot[each+\" % Infected\"],\n",
    "                                mode='markers+lines',\n",
    "                                opacity=0.8,\n",
    "                                line_width=1,\n",
    "                                marker_size=3, \n",
    "                                name=each\n",
    "                        )\n",
    "                )\n",
    "        \n",
    "    return {\n",
    "            'data': traces,\n",
    "            'layout': dict (\n",
    "                width=1280,\n",
    "                height=720,\n",
    "                yaxis_title=\"Percentage of Infected people (source johns hopkins csse, log-scale)\",\n",
    "                xaxis={'title':'Timeline',\n",
    "                        'tickangle':-30,\n",
    "                        'nticks':20,\n",
    "                        'tickfont':dict(size=14,color=\"#7f7f7f\"),\n",
    "                        \n",
    "                      },\n",
    "                yaxis={'title':'Percentage of Infected people (source johns hopkins csse, log-scale)',\n",
    "                       'type':\"log\",\n",
    "                       'range':'[1.1,5.5]'\n",
    "                      }\n",
    "        )\n",
    "    }"
   ]
  },
  {
   "cell_type": "code",
   "execution_count": null,
   "id": "d61a266d",
   "metadata": {},
   "outputs": [],
   "source": [
    "app.run_server(debug=True, use_reloader=False)"
   ]
  },
  {
   "cell_type": "code",
   "execution_count": null,
   "id": "9ea9f478",
   "metadata": {},
   "outputs": [],
   "source": []
  }
 ],
 "metadata": {
  "kernelspec": {
   "display_name": "Python 3 (ipykernel)",
   "language": "python",
   "name": "python3"
  },
  "language_info": {
   "codemirror_mode": {
    "name": "ipython",
    "version": 3
   },
   "file_extension": ".py",
   "mimetype": "text/x-python",
   "name": "python",
   "nbconvert_exporter": "python",
   "pygments_lexer": "ipython3",
   "version": "3.9.7"
  }
 },
 "nbformat": 4,
 "nbformat_minor": 5
}
